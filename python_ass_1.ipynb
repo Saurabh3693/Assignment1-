{
  "nbformat": 4,
  "nbformat_minor": 0,
  "metadata": {
    "colab": {
      "provenance": []
    },
    "kernelspec": {
      "name": "python3",
      "display_name": "Python 3"
    },
    "language_info": {
      "name": "python"
    }
  },
  "cells": [
    {
      "cell_type": "markdown",
      "source": [
        "Assignment-1"
      ],
      "metadata": {
        "id": "dYGdxsJjnQyI"
      }
    },
    {
      "cell_type": "markdown",
      "source": [
        "Q1. Create one variable containing following type of data:\n"
      ],
      "metadata": {
        "id": "9g1OWd6lnb73"
      }
    },
    {
      "cell_type": "markdown",
      "source": [
        "1) string"
      ],
      "metadata": {
        "id": "gVpk-AJpqQWF"
      }
    },
    {
      "cell_type": "code",
      "source": [
        "\n",
        "x = 'good day'\n"
      ],
      "metadata": {
        "id": "zuk7qbDjndZV"
      },
      "execution_count": null,
      "outputs": []
    },
    {
      "cell_type": "markdown",
      "source": [
        "2)list"
      ],
      "metadata": {
        "id": "DNJI76g_qU2v"
      }
    },
    {
      "cell_type": "code",
      "source": [
        " l1 = [10, 'pw skills', 0.35, True]\n"
      ],
      "metadata": {
        "id": "6b3wPep3qgXJ"
      },
      "execution_count": null,
      "outputs": []
    },
    {
      "cell_type": "markdown",
      "source": [
        "3) Float"
      ],
      "metadata": {
        "id": "ENu-2YPzrrLw"
      }
    },
    {
      "cell_type": "code",
      "source": [
        " x = 55.7678\n"
      ],
      "metadata": {
        "id": "TUm5kDCTrwn_"
      },
      "execution_count": null,
      "outputs": []
    },
    {
      "cell_type": "markdown",
      "source": [
        "4) Tuple"
      ],
      "metadata": {
        "id": "KG4YJxfSsrFL"
      }
    },
    {
      "cell_type": "code",
      "source": [
        "x = (10,20,30,40)\n"
      ],
      "metadata": {
        "id": "vMpjiyBWsv_6"
      },
      "execution_count": null,
      "outputs": []
    },
    {
      "cell_type": "markdown",
      "source": [
        "Q2. Given are some following variables containing data:\n",
        "(i) var1 = ‘ ‘\n",
        "(ii) var2 = ‘[ DS , ML , Python]’\n",
        "(iii) var3 = [ ‘DS’ , ’ML’ , ‘Python’ ]\n",
        "(iv) var4 = 1.\n",
        "What will be the data type of the above given variable.\n"
      ],
      "metadata": {
        "id": "lhAzVFqstIrU"
      }
    },
    {
      "cell_type": "code",
      "source": [
        "var1 = ''\n",
        "type(var1)"
      ],
      "metadata": {
        "colab": {
          "base_uri": "https://localhost:8080/"
        },
        "id": "rwHv7PyQBgiS",
        "outputId": "3b749663-ed30-4566-c51c-da66331480c0"
      },
      "execution_count": null,
      "outputs": [
        {
          "output_type": "execute_result",
          "data": {
            "text/plain": [
              "str"
            ]
          },
          "metadata": {},
          "execution_count": 7
        }
      ]
    },
    {
      "cell_type": "code",
      "source": [
        "var2 = '[DS,ML,Python]'\n",
        "type(var2)"
      ],
      "metadata": {
        "colab": {
          "base_uri": "https://localhost:8080/"
        },
        "id": "e8szQq6oBlnc",
        "outputId": "999291aa-669b-4d16-f19e-458b8cdead46"
      },
      "execution_count": null,
      "outputs": [
        {
          "output_type": "execute_result",
          "data": {
            "text/plain": [
              "str"
            ]
          },
          "metadata": {},
          "execution_count": 8
        }
      ]
    },
    {
      "cell_type": "code",
      "source": [
        "var3 = ['DS','ML','Python']\n",
        "type(3)"
      ],
      "metadata": {
        "colab": {
          "base_uri": "https://localhost:8080/"
        },
        "id": "rdp5-kUNBvF4",
        "outputId": "c02ea64c-3d72-443f-c94b-054d6a5509d7"
      },
      "execution_count": null,
      "outputs": [
        {
          "output_type": "execute_result",
          "data": {
            "text/plain": [
              "int"
            ]
          },
          "metadata": {},
          "execution_count": 9
        }
      ]
    },
    {
      "cell_type": "code",
      "source": [
        "var4 = 1\n",
        "type(var4)"
      ],
      "metadata": {
        "colab": {
          "base_uri": "https://localhost:8080/"
        },
        "id": "8kW2A9o_CDXt",
        "outputId": "98a1b644-141e-42a2-d71d-a60fb04fb008"
      },
      "execution_count": null,
      "outputs": [
        {
          "output_type": "execute_result",
          "data": {
            "text/plain": [
              "int"
            ]
          },
          "metadata": {},
          "execution_count": 10
        }
      ]
    },
    {
      "cell_type": "markdown",
      "source": [
        "Q3. Explain the use of the following operators using an example:\n",
        "(i) /\n",
        "(ii) %\n",
        "(iii) //\n",
        "(iv) **"
      ],
      "metadata": {
        "id": "m3v1EhSmCQu0"
      }
    },
    {
      "cell_type": "markdown",
      "source": [
        "i) /  this oprator mainly use with numeric values to perform common mathematical oprations."
      ],
      "metadata": {
        "id": "BQ32W-tpCrnI"
      }
    },
    {
      "cell_type": "code",
      "source": [
        "20/5"
      ],
      "metadata": {
        "colab": {
          "base_uri": "https://localhost:8080/"
        },
        "id": "jtOxWbQ4DWax",
        "outputId": "69e7ccc1-dcd9-49af-b1c0-f46b23c19446"
      },
      "execution_count": null,
      "outputs": [
        {
          "output_type": "execute_result",
          "data": {
            "text/plain": [
              "4.0"
            ]
          },
          "metadata": {},
          "execution_count": 11
        }
      ]
    },
    {
      "cell_type": "code",
      "source": [
        "5 // 20"
      ],
      "metadata": {
        "colab": {
          "base_uri": "https://localhost:8080/"
        },
        "id": "zEfZOtnkD2Rz",
        "outputId": "eaeaa739-694e-40b7-adcb-12274bc7518b"
      },
      "execution_count": null,
      "outputs": [
        {
          "output_type": "execute_result",
          "data": {
            "text/plain": [
              "0"
            ]
          },
          "metadata": {},
          "execution_count": 12
        }
      ]
    },
    {
      "cell_type": "markdown",
      "source": [
        "ii) %  Modulus oprator used for perform oprations on variables and values"
      ],
      "metadata": {
        "id": "u6brirl8D7c0"
      }
    },
    {
      "cell_type": "code",
      "source": [
        "20 % 10"
      ],
      "metadata": {
        "colab": {
          "base_uri": "https://localhost:8080/"
        },
        "id": "PkZerk7hFF7b",
        "outputId": "5f100a92-6c24-4153-9c09-fdcff7b32ac3"
      },
      "execution_count": null,
      "outputs": [
        {
          "output_type": "execute_result",
          "data": {
            "text/plain": [
              "0"
            ]
          },
          "metadata": {},
          "execution_count": 13
        }
      ]
    },
    {
      "cell_type": "markdown",
      "source": [
        "iii) // this oprator mainly used for floor division"
      ],
      "metadata": {
        "id": "UMurPCabFOFJ"
      }
    },
    {
      "cell_type": "code",
      "source": [
        "5 // 8"
      ],
      "metadata": {
        "colab": {
          "base_uri": "https://localhost:8080/"
        },
        "id": "EbqDQQGhGJBj",
        "outputId": "39530d67-bebd-4c6b-b093-129063febca1"
      },
      "execution_count": null,
      "outputs": [
        {
          "output_type": "execute_result",
          "data": {
            "text/plain": [
              "0"
            ]
          },
          "metadata": {},
          "execution_count": 14
        }
      ]
    },
    {
      "cell_type": "code",
      "source": [
        "-22 // 3"
      ],
      "metadata": {
        "colab": {
          "base_uri": "https://localhost:8080/"
        },
        "id": "4bVBV_aBGN5Q",
        "outputId": "53b81d82-6e25-4851-eb8c-5c7898be2644"
      },
      "execution_count": null,
      "outputs": [
        {
          "output_type": "execute_result",
          "data": {
            "text/plain": [
              "-8"
            ]
          },
          "metadata": {},
          "execution_count": 16
        }
      ]
    },
    {
      "cell_type": "markdown",
      "source": [
        "iv) ** Exponentiation Operator used to raise the operand to the power of the second"
      ],
      "metadata": {
        "id": "iKFE9OB9GYUh"
      }
    },
    {
      "cell_type": "code",
      "source": [
        "5**8"
      ],
      "metadata": {
        "colab": {
          "base_uri": "https://localhost:8080/"
        },
        "id": "eTh3Mc-FHPKc",
        "outputId": "9083600e-9cfe-47ce-e159-2b451b63f379"
      },
      "execution_count": null,
      "outputs": [
        {
          "output_type": "execute_result",
          "data": {
            "text/plain": [
              "390625"
            ]
          },
          "metadata": {},
          "execution_count": 17
        }
      ]
    },
    {
      "cell_type": "markdown",
      "source": [
        "Q4. Create a list of length 10 of your choice containing multiple types of data. Using for loop print the\n",
        "element and its data type."
      ],
      "metadata": {
        "id": "saZgw_tyHiGv"
      }
    },
    {
      "cell_type": "code",
      "source": [
        "list1 =[10,20,'saurabh',35.468,True,False,3+4j,30,False,'apple']\n",
        "for i in list1 :\n",
        "  print(type(i))"
      ],
      "metadata": {
        "colab": {
          "base_uri": "https://localhost:8080/"
        },
        "id": "qp4lhaovHj3h",
        "outputId": "437d9b48-b001-4d4a-a9c7-4d397c0aac71"
      },
      "execution_count": null,
      "outputs": [
        {
          "output_type": "stream",
          "name": "stdout",
          "text": [
            "<class 'int'>\n",
            "<class 'int'>\n",
            "<class 'str'>\n",
            "<class 'float'>\n",
            "<class 'bool'>\n",
            "<class 'bool'>\n",
            "<class 'complex'>\n",
            "<class 'int'>\n",
            "<class 'bool'>\n",
            "<class 'str'>\n"
          ]
        }
      ]
    },
    {
      "cell_type": "markdown",
      "source": [
        "Q5. Using a while loop, verify if the number A is purely divisible by number B and if so then how many\n",
        "times it can be divisible."
      ],
      "metadata": {
        "id": "vp7X87KcIqpY"
      }
    },
    {
      "cell_type": "code",
      "source": [
        "A = 6\n",
        "B = 1\n",
        "while B < A:\n",
        "  print(B)\n",
        "  B = B+1\n",
        "else:\n",
        "  print('this is my else')\n"
      ],
      "metadata": {
        "colab": {
          "base_uri": "https://localhost:8080/"
        },
        "id": "hoZwbzDWMl5A",
        "outputId": "01145fc1-798c-4cbe-da00-24ddaea125a9"
      },
      "execution_count": null,
      "outputs": [
        {
          "output_type": "stream",
          "name": "stdout",
          "text": [
            "1\n",
            "2\n",
            "3\n",
            "4\n",
            "5\n",
            "this is my else\n"
          ]
        }
      ]
    },
    {
      "cell_type": "markdown",
      "source": [
        "Q6. Create a list containing 25 int type data. Using for loop and if-else condition print if the element is\n",
        "divisible by 3 or not."
      ],
      "metadata": {
        "id": "pRg1jvqkNdr3"
      }
    },
    {
      "cell_type": "code",
      "source": [
        "A=[1,2,3,4,5,6,7,8,9,10,11,12,13,14,15,16,17,18,19,20,21,22,23,24,25 ]\n",
        "for i in A:\n",
        "  print(A)\n",
        "  if i/3:\n",
        "    continue\n",
        "else:\n",
        "  print('elements is divisible by 3 or not')\n",
        "\n",
        "\n",
        "\n",
        "\n"
      ],
      "metadata": {
        "colab": {
          "base_uri": "https://localhost:8080/"
        },
        "id": "Xz0gX4dqN2TX",
        "outputId": "00a6cccd-f56a-4961-b467-9b0e7596dcf8"
      },
      "execution_count": null,
      "outputs": [
        {
          "output_type": "stream",
          "name": "stdout",
          "text": [
            "[1, 2, 3, 4, 5, 6, 7, 8, 9, 10, 11, 12, 13, 14, 15, 16, 17, 18, 19, 20, 21, 22, 23, 24, 25]\n",
            "[1, 2, 3, 4, 5, 6, 7, 8, 9, 10, 11, 12, 13, 14, 15, 16, 17, 18, 19, 20, 21, 22, 23, 24, 25]\n",
            "[1, 2, 3, 4, 5, 6, 7, 8, 9, 10, 11, 12, 13, 14, 15, 16, 17, 18, 19, 20, 21, 22, 23, 24, 25]\n",
            "[1, 2, 3, 4, 5, 6, 7, 8, 9, 10, 11, 12, 13, 14, 15, 16, 17, 18, 19, 20, 21, 22, 23, 24, 25]\n",
            "[1, 2, 3, 4, 5, 6, 7, 8, 9, 10, 11, 12, 13, 14, 15, 16, 17, 18, 19, 20, 21, 22, 23, 24, 25]\n",
            "[1, 2, 3, 4, 5, 6, 7, 8, 9, 10, 11, 12, 13, 14, 15, 16, 17, 18, 19, 20, 21, 22, 23, 24, 25]\n",
            "[1, 2, 3, 4, 5, 6, 7, 8, 9, 10, 11, 12, 13, 14, 15, 16, 17, 18, 19, 20, 21, 22, 23, 24, 25]\n",
            "[1, 2, 3, 4, 5, 6, 7, 8, 9, 10, 11, 12, 13, 14, 15, 16, 17, 18, 19, 20, 21, 22, 23, 24, 25]\n",
            "[1, 2, 3, 4, 5, 6, 7, 8, 9, 10, 11, 12, 13, 14, 15, 16, 17, 18, 19, 20, 21, 22, 23, 24, 25]\n",
            "[1, 2, 3, 4, 5, 6, 7, 8, 9, 10, 11, 12, 13, 14, 15, 16, 17, 18, 19, 20, 21, 22, 23, 24, 25]\n",
            "[1, 2, 3, 4, 5, 6, 7, 8, 9, 10, 11, 12, 13, 14, 15, 16, 17, 18, 19, 20, 21, 22, 23, 24, 25]\n",
            "[1, 2, 3, 4, 5, 6, 7, 8, 9, 10, 11, 12, 13, 14, 15, 16, 17, 18, 19, 20, 21, 22, 23, 24, 25]\n",
            "[1, 2, 3, 4, 5, 6, 7, 8, 9, 10, 11, 12, 13, 14, 15, 16, 17, 18, 19, 20, 21, 22, 23, 24, 25]\n",
            "[1, 2, 3, 4, 5, 6, 7, 8, 9, 10, 11, 12, 13, 14, 15, 16, 17, 18, 19, 20, 21, 22, 23, 24, 25]\n",
            "[1, 2, 3, 4, 5, 6, 7, 8, 9, 10, 11, 12, 13, 14, 15, 16, 17, 18, 19, 20, 21, 22, 23, 24, 25]\n",
            "[1, 2, 3, 4, 5, 6, 7, 8, 9, 10, 11, 12, 13, 14, 15, 16, 17, 18, 19, 20, 21, 22, 23, 24, 25]\n",
            "[1, 2, 3, 4, 5, 6, 7, 8, 9, 10, 11, 12, 13, 14, 15, 16, 17, 18, 19, 20, 21, 22, 23, 24, 25]\n",
            "[1, 2, 3, 4, 5, 6, 7, 8, 9, 10, 11, 12, 13, 14, 15, 16, 17, 18, 19, 20, 21, 22, 23, 24, 25]\n",
            "[1, 2, 3, 4, 5, 6, 7, 8, 9, 10, 11, 12, 13, 14, 15, 16, 17, 18, 19, 20, 21, 22, 23, 24, 25]\n",
            "[1, 2, 3, 4, 5, 6, 7, 8, 9, 10, 11, 12, 13, 14, 15, 16, 17, 18, 19, 20, 21, 22, 23, 24, 25]\n",
            "[1, 2, 3, 4, 5, 6, 7, 8, 9, 10, 11, 12, 13, 14, 15, 16, 17, 18, 19, 20, 21, 22, 23, 24, 25]\n",
            "[1, 2, 3, 4, 5, 6, 7, 8, 9, 10, 11, 12, 13, 14, 15, 16, 17, 18, 19, 20, 21, 22, 23, 24, 25]\n",
            "[1, 2, 3, 4, 5, 6, 7, 8, 9, 10, 11, 12, 13, 14, 15, 16, 17, 18, 19, 20, 21, 22, 23, 24, 25]\n",
            "[1, 2, 3, 4, 5, 6, 7, 8, 9, 10, 11, 12, 13, 14, 15, 16, 17, 18, 19, 20, 21, 22, 23, 24, 25]\n",
            "[1, 2, 3, 4, 5, 6, 7, 8, 9, 10, 11, 12, 13, 14, 15, 16, 17, 18, 19, 20, 21, 22, 23, 24, 25]\n",
            "elements is divisible by 3 or not\n"
          ]
        }
      ]
    },
    {
      "cell_type": "markdown",
      "source": [
        "Q7. What do you understand about mutable and immutable data types? Give examples for both showing\n",
        "this property."
      ],
      "metadata": {
        "id": "ftmIYl1NT-Si"
      }
    },
    {
      "cell_type": "markdown",
      "source": [
        "1) Mutable deta types\n",
        "i)ex.list: such kind of deta types when we created we can do chnges this deta types known as mutable deta types."
      ],
      "metadata": {
        "id": "uH1AkQ-sUg99"
      }
    },
    {
      "cell_type": "code",
      "source": [
        "l1=[2, 'saurabh', 67.40,True,4+7j]\n",
        "type(l1)"
      ],
      "metadata": {
        "colab": {
          "base_uri": "https://localhost:8080/"
        },
        "id": "PraAo0LjUWii",
        "outputId": "eba825d8-e3df-4de1-902c-7c22870ee27c"
      },
      "execution_count": null,
      "outputs": [
        {
          "output_type": "execute_result",
          "data": {
            "text/plain": [
              "list"
            ]
          },
          "metadata": {},
          "execution_count": 32
        }
      ]
    },
    {
      "cell_type": "code",
      "source": [
        "l1[3]=400"
      ],
      "metadata": {
        "id": "BzLyhLycVYnu"
      },
      "execution_count": null,
      "outputs": []
    },
    {
      "cell_type": "code",
      "source": [
        "l1"
      ],
      "metadata": {
        "colab": {
          "base_uri": "https://localhost:8080/"
        },
        "id": "iOtCvRhjWI5w",
        "outputId": "d49a60fe-27e5-4310-8904-5178cc4a08a1"
      },
      "execution_count": null,
      "outputs": [
        {
          "output_type": "execute_result",
          "data": {
            "text/plain": [
              "[2, 'saurabh', 67.4, 400, (4+7j)]"
            ]
          },
          "metadata": {},
          "execution_count": 34
        }
      ]
    },
    {
      "cell_type": "code",
      "source": [
        "l1[-3]='pw'"
      ],
      "metadata": {
        "id": "2mOMte87WOOW"
      },
      "execution_count": null,
      "outputs": []
    },
    {
      "cell_type": "code",
      "source": [
        "l1"
      ],
      "metadata": {
        "colab": {
          "base_uri": "https://localhost:8080/"
        },
        "id": "to1HnIHcWUuy",
        "outputId": "5e2c538d-09be-45eb-ae51-9792afd74eb2"
      },
      "execution_count": null,
      "outputs": [
        {
          "output_type": "execute_result",
          "data": {
            "text/plain": [
              "[2, 'saurabh', 'pw', 400, (4+7j)]"
            ]
          },
          "metadata": {},
          "execution_count": 36
        }
      ]
    },
    {
      "cell_type": "markdown",
      "source": [
        "2)In the  Immutable data types deta types we can not make any changes in contents. ex.STRING  "
      ],
      "metadata": {
        "id": "qpefnbFnWYOs"
      }
    },
    {
      "cell_type": "code",
      "source": [
        "s = 'pw skills'\n",
        "s[3]= 'a'"
      ],
      "metadata": {
        "colab": {
          "base_uri": "https://localhost:8080/",
          "height": 183
        },
        "id": "vlasz0v9Xgba",
        "outputId": "caff8ecf-fa89-4354-a72b-6fd427f24e6b"
      },
      "execution_count": null,
      "outputs": [
        {
          "output_type": "error",
          "ename": "TypeError",
          "evalue": "ignored",
          "traceback": [
            "\u001b[0;31m---------------------------------------------------------------------------\u001b[0m",
            "\u001b[0;31mTypeError\u001b[0m                                 Traceback (most recent call last)",
            "\u001b[0;32m<ipython-input-37-f02a964b53e6>\u001b[0m in \u001b[0;36m<cell line: 2>\u001b[0;34m()\u001b[0m\n\u001b[1;32m      1\u001b[0m \u001b[0ms\u001b[0m \u001b[0;34m=\u001b[0m \u001b[0;34m'pw skills'\u001b[0m\u001b[0;34m\u001b[0m\u001b[0;34m\u001b[0m\u001b[0m\n\u001b[0;32m----> 2\u001b[0;31m \u001b[0ms\u001b[0m\u001b[0;34m[\u001b[0m\u001b[0;36m3\u001b[0m\u001b[0;34m]\u001b[0m\u001b[0;34m=\u001b[0m \u001b[0;34m'a'\u001b[0m\u001b[0;34m\u001b[0m\u001b[0;34m\u001b[0m\u001b[0m\n\u001b[0m",
            "\u001b[0;31mTypeError\u001b[0m: 'str' object does not support item assignment"
          ]
        }
      ]
    }
  ]
}